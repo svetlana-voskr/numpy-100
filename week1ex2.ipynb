{
  "nbformat": 4,
  "nbformat_minor": 0,
  "metadata": {
    "colab": {
      "name": "week1ex2.ipynb",
      "provenance": [],
      "authorship_tag": "ABX9TyPY3VZ+S/4bbyL3ZlhG6Ink",
      "include_colab_link": true
    },
    "kernelspec": {
      "name": "python3",
      "display_name": "Python 3"
    }
  },
  "cells": [
    {
      "cell_type": "markdown",
      "metadata": {
        "id": "view-in-github",
        "colab_type": "text"
      },
      "source": [
        "<a href=\"https://colab.research.google.com/github/svetlana-voskr/numpy-100/blob/master/week1ex2.ipynb\" target=\"_parent\"><img src=\"https://colab.research.google.com/assets/colab-badge.svg\" alt=\"Open In Colab\"/></a>"
      ]
    },
    {
      "cell_type": "code",
      "metadata": {
        "id": "i4L1x5fMY8Dn",
        "colab_type": "code",
        "colab": {
          "base_uri": "https://localhost:8080/",
          "height": 124
        },
        "outputId": "3471b2c3-3e7a-45f0-94b3-cec57a7f044d"
      },
      "source": [
        "import cmath\n",
        "import math\n",
        "from numpy import allclose\n",
        "\n",
        "# x1 = (-b - cmath.sqrt(D)) / 2 \n",
        "# Воспользуемся т. Виетта: x1+x2 = -b; x1*x2 = c\n",
        "# x2 = 2*c/x1\n",
        "def solve_quad(b, c):\n",
        "    D = b**2 - 4*c\n",
        "    if b >= 0:\n",
        "        return ((-b - cmath.sqrt(D)) / 2 , 2 * c / (-b - cmath.sqrt(D)))\n",
        "    else:\n",
        "        return ((-b + cmath.sqrt(D)) / 2 , 2 * c / (-b + cmath.sqrt(D)))\n",
        "\n",
        "\n",
        "variants = [{'b': 4.0, 'c': 3.0},\n",
        "            {'b': 2.0, 'c': 1.0},\n",
        "            {'b': 0.5, 'c': 4.0},\n",
        "            {'b': 1e10, 'c': 3.0},\n",
        "            {'b': -1e10, 'c': 4.0},]\n",
        "\n",
        "for var in variants:\n",
        "    x1, x2 = solve_quad(**var)\n",
        "    print(allclose(x1*x2, var['c']))\n",
        "b = -2\n",
        "c = 1\n",
        "print(solve_quad(b, c))\n"
      ],
      "execution_count": 1,
      "outputs": [
        {
          "output_type": "stream",
          "text": [
            "True\n",
            "True\n",
            "True\n",
            "True\n",
            "True\n",
            "((1+0j), (1+0j))\n"
          ],
          "name": "stdout"
        }
      ]
    },
    {
      "cell_type": "code",
      "metadata": {
        "id": "PvM_ntsIasdM",
        "colab_type": "code",
        "colab": {}
      },
      "source": [
        ""
      ],
      "execution_count": null,
      "outputs": []
    }
  ]
}